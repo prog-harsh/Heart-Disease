{
 "cells": [
  {
   "cell_type": "code",
   "execution_count": 8,
   "id": "5c7c5b1c",
   "metadata": {},
   "outputs": [],
   "source": [
    "import pandas as pd\n",
    "import numpy as np\n",
    "import matplotlib.pyplot as mlp\n",
    "import warnings\n",
    "import seaborn as sns\n",
    "import scipy.stats as stats\n",
    "import pylab\n",
    "from sklearn.ensemble import RandomForestClassifier \n",
    "from sklearn.tree import DecisionTreeClassifier\n",
    "from sklearn.tree import export_graphviz \n",
    "from sklearn.metrics import accuracy_score\n",
    "from sklearn.metrics import roc_curve, auc \n",
    "from sklearn.metrics import classification_report \n",
    "from sklearn.metrics import confusion_matrix \n",
    "from sklearn.model_selection import train_test_split"
   ]
  },
  {
   "cell_type": "code",
   "execution_count": 9,
   "id": "bb9dcdaf",
   "metadata": {},
   "outputs": [],
   "source": [
    "dt = pd.read_csv('heart.csv')"
   ]
  },
  {
   "cell_type": "code",
   "execution_count": 11,
   "id": "ee180a4a",
   "metadata": {},
   "outputs": [],
   "source": [
    "X = dt.iloc[:,:-1]\n",
    "Y = dt['target']"
   ]
  },
  {
   "cell_type": "code",
   "execution_count": 12,
   "id": "37a8f3d8",
   "metadata": {},
   "outputs": [],
   "source": [
    "X_train,X_test, Y_train, Y_test = train_test_split(X,Y,test_size=.2,random_state=10)"
   ]
  },
  {
   "cell_type": "markdown",
   "id": "b05448fb",
   "metadata": {},
   "source": [
    "# CLASSIFIER"
   ]
  },
  {
   "cell_type": "code",
   "execution_count": 16,
   "id": "80369c04",
   "metadata": {},
   "outputs": [
    {
     "name": "stdout",
     "output_type": "stream",
     "text": [
      "The Accuracy is 72.1311475409836\n"
     ]
    }
   ],
   "source": [
    "dtc = DecisionTreeClassifier(criterion='gini',\n",
    "    splitter='best',\n",
    "    max_depth=5,\n",
    "    min_samples_split=2,\n",
    "    min_samples_leaf=1,\n",
    "    random_state=10,\n",
    "    max_leaf_nodes=5,\n",
    "    )\n",
    "dtc.fit(X_train,Y_train);\n",
    "dtc_pred = dtc.predict(X_test)\n",
    "print('The Accuracy is',accuracy_score(Y_test,dtc_pred)*100)"
   ]
  },
  {
   "cell_type": "code",
   "execution_count": 17,
   "id": "4d0d267b",
   "metadata": {},
   "outputs": [
    {
     "name": "stdout",
     "output_type": "stream",
     "text": [
      "The Accuracy is 78.68852459016394\n"
     ]
    }
   ],
   "source": [
    "random = RandomForestClassifier(criterion='gini',\n",
    "    max_depth=None,\n",
    "    min_samples_split=2,\n",
    "    min_samples_leaf=1,\n",
    "    min_weight_fraction_leaf=0.0,\n",
    "    max_features='auto',\n",
    "    max_leaf_nodes=5,\n",
    "    bootstrap=True,random_state=100)\n",
    "random.fit(X_train,Y_train);\n",
    "random_pred = random.predict(X_test)\n",
    "print('The Accuracy is',accuracy_score(Y_test,random_pred)*100)"
   ]
  },
  {
   "cell_type": "code",
   "execution_count": 20,
   "id": "c8248598",
   "metadata": {},
   "outputs": [],
   "source": [
    "import pickle\n",
    "with open('heart_disease.pkl','wb') as file:pickle.dump(random,file)"
   ]
  },
  {
   "cell_type": "code",
   "execution_count": null,
   "id": "20d5cef1",
   "metadata": {},
   "outputs": [],
   "source": []
  }
 ],
 "metadata": {
  "kernelspec": {
   "display_name": "Python 3 (ipykernel)",
   "language": "python",
   "name": "python3"
  },
  "language_info": {
   "codemirror_mode": {
    "name": "ipython",
    "version": 3
   },
   "file_extension": ".py",
   "mimetype": "text/x-python",
   "name": "python",
   "nbconvert_exporter": "python",
   "pygments_lexer": "ipython3",
   "version": "3.8.10"
  }
 },
 "nbformat": 4,
 "nbformat_minor": 5
}
